{
 "cells": [
  {
   "cell_type": "code",
   "execution_count": 2,
   "metadata": {},
   "outputs": [],
   "source": [
    "import os\n",
    "import getpass\n",
    "import openai"
   ]
  },
  {
   "cell_type": "code",
   "execution_count": 3,
   "metadata": {},
   "outputs": [],
   "source": [
    "from dotenv import load_dotenv\n",
    "\n",
    "load_dotenv()\n",
    "\n",
    "# APIキーを設定\n",
    "openai.api_key = os.getenv(\"OPENAI_API_KEY\")"
   ]
  },
  {
   "cell_type": "markdown",
   "metadata": {},
   "source": [
    "## OpenAIのモデルの確認"
   ]
  },
  {
   "cell_type": "code",
   "execution_count": 4,
   "metadata": {},
   "outputs": [
    {
     "name": "stdout",
     "output_type": "stream",
     "text": [
      "29\n",
      "dall-e-3,\n",
      "gpt-4-1106-preview,\n",
      "dall-e-2,\n",
      "tts-1-hd-1106,\n",
      "tts-1-hd,\n",
      "gpt-4o-mini-2024-07-18,\n",
      "gpt-4-0125-preview,\n",
      "babbage-002,\n",
      "gpt-4-turbo-preview,\n",
      "text-embedding-3-small,\n",
      "text-embedding-3-large,\n",
      "tts-1,\n",
      "gpt-3.5-turbo,\n",
      "whisper-1,\n",
      "gpt-4o-2024-05-13,\n",
      "text-embedding-ada-002,\n",
      "gpt-3.5-turbo-16k,\n",
      "davinci-002,\n",
      "gpt-4-turbo-2024-04-09,\n",
      "tts-1-1106,\n",
      "gpt-3.5-turbo-0125,\n",
      "gpt-4-turbo,\n",
      "gpt-3.5-turbo-1106,\n",
      "gpt-4o-mini,\n",
      "gpt-4o,\n",
      "gpt-3.5-turbo-instruct-0914,\n",
      "gpt-4-0613,\n",
      "gpt-4,\n",
      "gpt-3.5-turbo-instruct\n"
     ]
    }
   ],
   "source": [
    "openai_models = openai.Model.list()\n",
    "\n",
    "model_ids = [model[\"id\"] for model in openai_models[\"data\"]]\n",
    "print(len(model_ids))\n",
    "print(\",\\n\".join(model_ids))"
   ]
  },
  {
   "cell_type": "markdown",
   "metadata": {},
   "source": [
    "## openai.ChatCompletion"
   ]
  },
  {
   "cell_type": "code",
   "execution_count": 9,
   "metadata": {},
   "outputs": [],
   "source": [
    "response = openai.ChatCompletion.create(\n",
    "  model=\"gpt-4o-mini\",\n",
    "  messages=[\n",
    "    {\"role\": \"system\", \"content\": \"You are a helpful assistant.\"},\n",
    "    {\"role\": \"user\", \"content\": \"Write a tagline for a candy shop.\"}\n",
    "  ]\n",
    ")"
   ]
  },
  {
   "cell_type": "code",
   "execution_count": 11,
   "metadata": {},
   "outputs": [
    {
     "name": "stdout",
     "output_type": "stream",
     "text": [
      "<class 'openai.openai_object.OpenAIObject'>\n",
      "{\n",
      "  \"id\": \"chatcmpl-9rZkBrGsR1jMWsMbaYkuXu9KlHDdk\",\n",
      "  \"object\": \"chat.completion\",\n",
      "  \"created\": 1722555811,\n",
      "  \"model\": \"gpt-4o-mini-2024-07-18\",\n",
      "  \"choices\": [\n",
      "    {\n",
      "      \"index\": 0,\n",
      "      \"message\": {\n",
      "        \"role\": \"assistant\",\n",
      "        \"content\": \"\\\"Sweeten Your Day, One Treat at a Time!\\\"\"\n",
      "      },\n",
      "      \"logprobs\": null,\n",
      "      \"finish_reason\": \"stop\"\n",
      "    }\n",
      "  ],\n",
      "  \"usage\": {\n",
      "    \"prompt_tokens\": 25,\n",
      "    \"completion_tokens\": 12,\n",
      "    \"total_tokens\": 37\n",
      "  },\n",
      "  \"system_fingerprint\": \"fp_0f03d4f0ee\"\n",
      "}\n"
     ]
    }
   ],
   "source": [
    "print(type(response))\n",
    "print(response)"
   ]
  },
  {
   "cell_type": "markdown",
   "metadata": {},
   "source": [
    "## LangChain: 基本的な使い方"
   ]
  },
  {
   "cell_type": "code",
   "execution_count": 4,
   "metadata": {},
   "outputs": [
    {
     "name": "stdout",
     "output_type": "stream",
     "text": [
      "\n",
      "\n",
      "The capital of Japan is Tokyo.\n"
     ]
    },
    {
     "data": {
      "text/plain": [
       "str"
      ]
     },
     "execution_count": 4,
     "metadata": {},
     "output_type": "execute_result"
    }
   ],
   "source": [
    "from langchain.llms import OpenAI\n",
    "\n",
    "llm = OpenAI(temperature=0.9)\n",
    "\n",
    "text = \"What is the captial of Japan?\"\n",
    "\n",
    "response = llm(text)\n",
    "print(response)\n",
    "type(response)"
   ]
  },
  {
   "cell_type": "markdown",
   "metadata": {},
   "source": [
    "## Chains"
   ]
  },
  {
   "cell_type": "code",
   "execution_count": 7,
   "metadata": {},
   "outputs": [
    {
     "name": "stdout",
     "output_type": "stream",
     "text": [
      "\n",
      "\n",
      "The capital of Japan is Tokyo.\n"
     ]
    }
   ],
   "source": [
    "from langchain.prompts import PromptTemplate\n",
    "from langchain.llms import OpenAI\n",
    "from langchain.chains import LLMChain\n",
    "\n",
    "llm = OpenAI(temperature=0.9)\n",
    "\n",
    "prompt = PromptTemplate(\n",
    "    input_variables=[\"country\"], # 変数を定義\n",
    "    template=\"What is the capital of {country}?\" # テンプレートを定義\n",
    ")\n",
    "\n",
    "chain = LLMChain(llm=llm, prompt=prompt)\n",
    "\n",
    "# print(chain(\"Japan\"))\n",
    "print(chain.run(\"Japan\"))"
   ]
  },
  {
   "cell_type": "code",
   "execution_count": null,
   "metadata": {},
   "outputs": [],
   "source": []
  }
 ],
 "metadata": {
  "kernelspec": {
   "display_name": ".venv",
   "language": "python",
   "name": "python3"
  },
  "language_info": {
   "codemirror_mode": {
    "name": "ipython",
    "version": 3
   },
   "file_extension": ".py",
   "mimetype": "text/x-python",
   "name": "python",
   "nbconvert_exporter": "python",
   "pygments_lexer": "ipython3",
   "version": "3.12.4"
  }
 },
 "nbformat": 4,
 "nbformat_minor": 2
}
